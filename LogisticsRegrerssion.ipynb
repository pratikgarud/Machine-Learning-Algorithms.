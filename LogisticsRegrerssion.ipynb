{
  "cells": [
    {
      "metadata": {
        "trusted": true
      },
      "cell_type": "code",
      "source": "import pandas as pd\nimport numpy as np\nimport matplotlib.pyplot as plt",
      "execution_count": 1,
      "outputs": []
    },
    {
      "metadata": {
        "trusted": true
      },
      "cell_type": "code",
      "source": "df = pd.read_csv('Social_Network_Ads.csv')\ndf.head()",
      "execution_count": 2,
      "outputs": [
        {
          "output_type": "execute_result",
          "execution_count": 2,
          "data": {
            "text/html": "<div>\n<style scoped>\n    .dataframe tbody tr th:only-of-type {\n        vertical-align: middle;\n    }\n\n    .dataframe tbody tr th {\n        vertical-align: top;\n    }\n\n    .dataframe thead th {\n        text-align: right;\n    }\n</style>\n<table border=\"1\" class=\"dataframe\">\n  <thead>\n    <tr style=\"text-align: right;\">\n      <th></th>\n      <th>User ID</th>\n      <th>Gender</th>\n      <th>Age</th>\n      <th>EstimatedSalary</th>\n      <th>Purchased</th>\n    </tr>\n  </thead>\n  <tbody>\n    <tr>\n      <th>0</th>\n      <td>15624510</td>\n      <td>Male</td>\n      <td>19</td>\n      <td>19000</td>\n      <td>0</td>\n    </tr>\n    <tr>\n      <th>1</th>\n      <td>15810944</td>\n      <td>Male</td>\n      <td>35</td>\n      <td>20000</td>\n      <td>0</td>\n    </tr>\n    <tr>\n      <th>2</th>\n      <td>15668575</td>\n      <td>Female</td>\n      <td>26</td>\n      <td>43000</td>\n      <td>0</td>\n    </tr>\n    <tr>\n      <th>3</th>\n      <td>15603246</td>\n      <td>Female</td>\n      <td>27</td>\n      <td>57000</td>\n      <td>0</td>\n    </tr>\n    <tr>\n      <th>4</th>\n      <td>15804002</td>\n      <td>Male</td>\n      <td>19</td>\n      <td>76000</td>\n      <td>0</td>\n    </tr>\n  </tbody>\n</table>\n</div>",
            "text/plain": "    User ID  Gender  Age  EstimatedSalary  Purchased\n0  15624510    Male   19            19000          0\n1  15810944    Male   35            20000          0\n2  15668575  Female   26            43000          0\n3  15603246  Female   27            57000          0\n4  15804002    Male   19            76000          0"
          },
          "metadata": {}
        }
      ]
    },
    {
      "metadata": {
        "trusted": true
      },
      "cell_type": "code",
      "source": "df.shape",
      "execution_count": 3,
      "outputs": [
        {
          "output_type": "execute_result",
          "execution_count": 3,
          "data": {
            "text/plain": "(400, 5)"
          },
          "metadata": {}
        }
      ]
    },
    {
      "metadata": {
        "trusted": true
      },
      "cell_type": "code",
      "source": "df.isnull().sum()",
      "execution_count": 4,
      "outputs": [
        {
          "output_type": "execute_result",
          "execution_count": 4,
          "data": {
            "text/plain": "User ID            0\nGender             0\nAge                0\nEstimatedSalary    0\nPurchased          0\ndtype: int64"
          },
          "metadata": {}
        }
      ]
    },
    {
      "metadata": {
        "trusted": true
      },
      "cell_type": "code",
      "source": "plt.scatter(df['EstimatedSalary'],df['Purchased'],marker='+',color='red')\nplt.show()",
      "execution_count": 5,
      "outputs": [
        {
          "output_type": "display_data",
          "data": {
            "image/png": "[encoded data removed]",
            "text/plain": "<Figure size 432x288 with 1 Axes>"
          },
          "metadata": {
            "needs_background": "light"
          }
        }
      ]
    },
    {
      "metadata": {
        "trusted": true
      },
      "cell_type": "code",
      "source": "X = df.iloc[:, [2, 3]].values\nX\n",
      "execution_count": 6,
      "outputs": [
        {
          "output_type": "execute_result",
          "execution_count": 6,
          "data": {
            "text/plain": "array([[    19,  19000],\n       [    35,  20000],\n       [    26,  43000],\n       [    27,  57000],\n       [    19,  76000],\n       [    27,  58000],\n       [    27,  84000],\n       [    32, 150000],\n       [    25,  33000],\n       [    35,  65000],\n       [    26,  80000],\n       [    26,  52000],\n       [    20,  86000],\n       [    32,  18000],\n       [    18,  82000],\n       [    29,  80000],\n       [    47,  25000],\n       [    45,  26000],\n       [    46,  28000],\n       [    48,  29000],\n       [    45,  22000],\n       [    47,  49000],\n       [    48,  41000],\n       [    45,  22000],\n       [    46,  23000],\n       [    47,  20000],\n       [    49,  28000],\n       [    47,  30000],\n       [    29,  43000],\n       [    31,  18000],\n       [    31,  74000],\n       [    27, 137000],\n       [    21,  16000],\n       [    28,  44000],\n       [    27,  90000],\n       [    35,  27000],\n       [    33,  28000],\n       [    30,  49000],\n       [    26,  72000],\n       [    27,  31000],\n       [    27,  17000],\n       [    33,  51000],\n       [    35, 108000],\n       [    30,  15000],\n       [    28,  84000],\n       [    23,  20000],\n       [    25,  79000],\n       [    27,  54000],\n       [    30, 135000],\n       [    31,  89000],\n       [    24,  32000],\n       [    18,  44000],\n       [    29,  83000],\n       [    35,  23000],\n       [    27,  58000],\n       [    24,  55000],\n       [    23,  48000],\n       [    28,  79000],\n       [    22,  18000],\n       [    32, 117000],\n       [    27,  20000],\n       [    25,  87000],\n       [    23,  66000],\n       [    32, 120000],\n       [    59,  83000],\n       [    24,  58000],\n       [    24,  19000],\n       [    23,  82000],\n       [    22,  63000],\n       [    31,  68000],\n       [    25,  80000],\n       [    24,  27000],\n       [    20,  23000],\n       [    33, 113000],\n       [    32,  18000],\n       [    34, 112000],\n       [    18,  52000],\n       [    22,  27000],\n       [    28,  87000],\n       [    26,  17000],\n       [    30,  80000],\n       [    39,  42000],\n       [    20,  49000],\n       [    35,  88000],\n       [    30,  62000],\n       [    31, 118000],\n       [    24,  55000],\n       [    28,  85000],\n       [    26,  81000],\n       [    35,  50000],\n       [    22,  81000],\n       [    30, 116000],\n       [    26,  15000],\n       [    29,  28000],\n       [    29,  83000],\n       [    35,  44000],\n       [    35,  25000],\n       [    28, 123000],\n       [    35,  73000],\n       [    28,  37000],\n       [    27,  88000],\n       [    28,  59000],\n       [    32,  86000],\n       [    33, 149000],\n       [    19,  21000],\n       [    21,  72000],\n       [    26,  35000],\n       [    27,  89000],\n       [    26,  86000],\n       [    38,  80000],\n       [    39,  71000],\n       [    37,  71000],\n       [    38,  61000],\n       [    37,  55000],\n       [    42,  80000],\n       [    40,  57000],\n       [    35,  75000],\n       [    36,  52000],\n       [    40,  59000],\n       [    41,  59000],\n       [    36,  75000],\n       [    37,  72000],\n       [    40,  75000],\n       [    35,  53000],\n       [    41,  51000],\n       [    39,  61000],\n       [    42,  65000],\n       [    26,  32000],\n       [    30,  17000],\n       [    26,  84000],\n       [    31,  58000],\n       [    33,  31000],\n       [    30,  87000],\n       [    21,  68000],\n       [    28,  55000],\n       [    23,  63000],\n       [    20,  82000],\n       [    30, 107000],\n       [    28,  59000],\n       [    19,  25000],\n       [    19,  85000],\n       [    18,  68000],\n       [    35,  59000],\n       [    30,  89000],\n       [    34,  25000],\n       [    24,  89000],\n       [    27,  96000],\n       [    41,  30000],\n       [    29,  61000],\n       [    20,  74000],\n       [    26,  15000],\n       [    41,  45000],\n       [    31,  76000],\n       [    36,  50000],\n       [    40,  47000],\n       [    31,  15000],\n       [    46,  59000],\n       [    29,  75000],\n       [    26,  30000],\n       [    32, 135000],\n       [    32, 100000],\n       [    25,  90000],\n       [    37,  33000],\n       [    35,  38000],\n       [    33,  69000],\n       [    18,  86000],\n       [    22,  55000],\n       [    35,  71000],\n       [    29, 148000],\n       [    29,  47000],\n       [    21,  88000],\n       [    34, 115000],\n       [    26, 118000],\n       [    34,  43000],\n       [    34,  72000],\n       [    23,  28000],\n       [    35,  47000],\n       [    25,  22000],\n       [    24,  23000],\n       [    31,  34000],\n       [    26,  16000],\n       [    31,  71000],\n       [    32, 117000],\n       [    33,  43000],\n       [    33,  60000],\n       [    31,  66000],\n       [    20,  82000],\n       [    33,  41000],\n       [    35,  72000],\n       [    28,  32000],\n       [    24,  84000],\n       [    19,  26000],\n       [    29,  43000],\n       [    19,  70000],\n       [    28,  89000],\n       [    34,  43000],\n       [    30,  79000],\n       [    20,  36000],\n       [    26,  80000],\n       [    35,  22000],\n       [    35,  39000],\n       [    49,  74000],\n       [    39, 134000],\n       [    41,  71000],\n       [    58, 101000],\n       [    47,  47000],\n       [    55, 130000],\n       [    52, 114000],\n       [    40, 142000],\n       [    46,  22000],\n       [    48,  96000],\n       [    52, 150000],\n       [    59,  42000],\n       [    35,  58000],\n       [    47,  43000],\n       [    60, 108000],\n       [    49,  65000],\n       [    40,  78000],\n       [    46,  96000],\n       [    59, 143000],\n       [    41,  80000],\n       [    35,  91000],\n       [    37, 144000],\n       [    60, 102000],\n       [    35,  60000],\n       [    37,  53000],\n       [    36, 126000],\n       [    56, 133000],\n       [    40,  72000],\n       [    42,  80000],\n       [    35, 147000],\n       [    39,  42000],\n       [    40, 107000],\n       [    49,  86000],\n       [    38, 112000],\n       [    46,  79000],\n       [    40,  57000],\n       [    37,  80000],\n       [    46,  82000],\n       [    53, 143000],\n       [    42, 149000],\n       [    38,  59000],\n       [    50,  88000],\n       [    56, 104000],\n       [    41,  72000],\n       [    51, 146000],\n       [    35,  50000],\n       [    57, 122000],\n       [    41,  52000],\n       [    35,  97000],\n       [    44,  39000],\n       [    37,  52000],\n       [    48, 134000],\n       [    37, 146000],\n       [    50,  44000],\n       [    52,  90000],\n       [    41,  72000],\n       [    40,  57000],\n       [    58,  95000],\n       [    45, 131000],\n       [    35,  77000],\n       [    36, 144000],\n       [    55, 125000],\n       [    35,  72000],\n       [    48,  90000],\n       [    42, 108000],\n       [    40,  75000],\n       [    37,  74000],\n       [    47, 144000],\n       [    40,  61000],\n       [    43, 133000],\n       [    59,  76000],\n       [    60,  42000],\n       [    39, 106000],\n       [    57,  26000],\n       [    57,  74000],\n       [    38,  71000],\n       [    49,  88000],\n       [    52,  38000],\n       [    50,  36000],\n       [    59,  88000],\n       [    35,  61000],\n       [    37,  70000],\n       [    52,  21000],\n       [    48, 141000],\n       [    37,  93000],\n       [    37,  62000],\n       [    48, 138000],\n       [    41,  79000],\n       [    37,  78000],\n       [    39, 134000],\n       [    49,  89000],\n       [    55,  39000],\n       [    37,  77000],\n       [    35,  57000],\n       [    36,  63000],\n       [    42,  73000],\n       [    43, 112000],\n       [    45,  79000],\n       [    46, 117000],\n       [    58,  38000],\n       [    48,  74000],\n       [    37, 137000],\n       [    37,  79000],\n       [    40,  60000],\n       [    42,  54000],\n       [    51, 134000],\n       [    47, 113000],\n       [    36, 125000],\n       [    38,  50000],\n       [    42,  70000],\n       [    39,  96000],\n       [    38,  50000],\n       [    49, 141000],\n       [    39,  79000],\n       [    39,  75000],\n       [    54, 104000],\n       [    35,  55000],\n       [    45,  32000],\n       [    36,  60000],\n       [    52, 138000],\n       [    53,  82000],\n       [    41,  52000],\n       [    48,  30000],\n       [    48, 131000],\n       [    41,  60000],\n       [    41,  72000],\n       [    42,  75000],\n       [    36, 118000],\n       [    47, 107000],\n       [    38,  51000],\n       [    48, 119000],\n       [    42,  65000],\n       [    40,  65000],\n       [    57,  60000],\n       [    36,  54000],\n       [    58, 144000],\n       [    35,  79000],\n       [    38,  55000],\n       [    39, 122000],\n       [    53, 104000],\n       [    35,  75000],\n       [    38,  65000],\n       [    47,  51000],\n       [    47, 105000],\n       [    41,  63000],\n       [    53,  72000],\n       [    54, 108000],\n       [    39,  77000],\n       [    38,  61000],\n       [    38, 113000],\n       [    37,  75000],\n       [    42,  90000],\n       [    37,  57000],\n       [    36,  99000],\n       [    60,  34000],\n       [    54,  70000],\n       [    41,  72000],\n       [    40,  71000],\n       [    42,  54000],\n       [    43, 129000],\n       [    53,  34000],\n       [    47,  50000],\n       [    42,  79000],\n       [    42, 104000],\n       [    59,  29000],\n       [    58,  47000],\n       [    46,  88000],\n       [    38,  71000],\n       [    54,  26000],\n       [    60,  46000],\n       [    60,  83000],\n       [    39,  73000],\n       [    59, 130000],\n       [    37,  80000],\n       [    46,  32000],\n       [    46,  74000],\n       [    42,  53000],\n       [    41,  87000],\n       [    58,  23000],\n       [    42,  64000],\n       [    48,  33000],\n       [    44, 139000],\n       [    49,  28000],\n       [    57,  33000],\n       [    56,  60000],\n       [    49,  39000],\n       [    39,  71000],\n       [    47,  34000],\n       [    48,  35000],\n       [    48,  33000],\n       [    47,  23000],\n       [    45,  45000],\n       [    60,  42000],\n       [    39,  59000],\n       [    46,  41000],\n       [    51,  23000],\n       [    50,  20000],\n       [    36,  33000],\n       [    49,  36000]])"
          },
          "metadata": {}
        }
      ]
    },
    {
      "metadata": {
        "trusted": true
      },
      "cell_type": "code",
      "source": "y = df.iloc[:, 4].values\ny",
      "execution_count": 7,
      "outputs": [
        {
          "output_type": "execute_result",
          "execution_count": 7,
          "data": {
            "text/plain": "array([0, 0, 0, 0, 0, 0, 0, 1, 0, 0, 0, 0, 0, 0, 0, 0, 1, 1, 1, 1, 1, 1,\n       1, 1, 1, 1, 1, 1, 0, 0, 0, 1, 0, 0, 0, 0, 0, 0, 0, 0, 0, 0, 0, 0,\n       0, 0, 0, 0, 1, 0, 0, 0, 0, 0, 0, 0, 0, 0, 0, 0, 0, 0, 0, 1, 0, 0,\n       0, 0, 0, 0, 0, 0, 0, 0, 0, 1, 0, 0, 0, 0, 0, 0, 0, 0, 0, 1, 0, 0,\n       0, 0, 0, 0, 0, 0, 0, 0, 0, 1, 0, 0, 0, 0, 0, 1, 0, 0, 0, 0, 0, 0,\n       0, 0, 0, 0, 0, 0, 0, 0, 0, 0, 0, 0, 0, 0, 0, 0, 0, 0, 0, 0, 0, 0,\n       0, 0, 0, 0, 0, 1, 0, 0, 0, 0, 0, 0, 0, 0, 1, 0, 0, 0, 0, 0, 0, 0,\n       0, 0, 0, 0, 0, 1, 1, 0, 0, 0, 0, 0, 0, 0, 1, 0, 0, 0, 0, 0, 0, 0,\n       0, 0, 0, 0, 0, 0, 1, 0, 0, 0, 0, 0, 0, 0, 0, 0, 0, 0, 0, 0, 0, 0,\n       0, 0, 0, 0, 1, 0, 1, 0, 1, 0, 1, 0, 1, 1, 0, 0, 0, 1, 0, 0, 0, 1,\n       0, 1, 1, 1, 0, 0, 1, 1, 0, 1, 1, 0, 1, 1, 0, 1, 0, 0, 0, 1, 1, 0,\n       1, 1, 0, 1, 0, 1, 0, 1, 0, 0, 1, 1, 0, 1, 0, 0, 1, 1, 0, 1, 1, 0,\n       1, 1, 0, 0, 1, 0, 0, 1, 1, 1, 1, 1, 0, 1, 1, 1, 1, 0, 1, 1, 0, 1,\n       0, 1, 0, 1, 1, 1, 1, 0, 0, 0, 1, 1, 0, 1, 1, 1, 1, 1, 0, 0, 0, 1,\n       1, 0, 0, 1, 0, 1, 0, 1, 1, 0, 1, 0, 1, 1, 0, 1, 1, 0, 0, 0, 1, 1,\n       0, 1, 0, 0, 1, 0, 1, 0, 0, 1, 1, 0, 0, 1, 1, 0, 1, 1, 0, 0, 1, 0,\n       1, 0, 1, 1, 1, 0, 1, 0, 1, 1, 1, 0, 1, 1, 1, 1, 0, 1, 1, 1, 0, 1,\n       0, 1, 0, 0, 1, 1, 0, 1, 1, 1, 1, 1, 1, 0, 1, 1, 1, 1, 1, 1, 0, 1,\n       1, 1, 0, 1])"
          },
          "metadata": {}
        }
      ]
    },
    {
      "metadata": {
        "trusted": true
      },
      "cell_type": "code",
      "source": "from sklearn.model_selection import train_test_split\nX_train, X_test, y_train, y_test = train_test_split(X, y, test_size=0.20, random_state=0)",
      "execution_count": 10,
      "outputs": []
    },
    {
      "metadata": {
        "trusted": true
      },
      "cell_type": "code",
      "source": "# Rescale range because age and salary diff magnitude\nfrom sklearn.preprocessing import StandardScaler\nscaler = StandardScaler()",
      "execution_count": 11,
      "outputs": []
    },
    {
      "metadata": {
        "trusted": true
      },
      "cell_type": "code",
      "source": "X_train = scaler.fit_transform(X_train)\nX_test = scaler.fit_transform(X_test)",
      "execution_count": 12,
      "outputs": [
        {
          "output_type": "stream",
          "text": "/home/nbuser/anaconda3_501/lib/python3.6/site-packages/sklearn/utils/validation.py:595: DataConversionWarning: Data with input dtype int64 was converted to float64 by StandardScaler.\n  warnings.warn(msg, DataConversionWarning)\n/home/nbuser/anaconda3_501/lib/python3.6/site-packages/sklearn/utils/validation.py:595: DataConversionWarning: Data with input dtype int64 was converted to float64 by StandardScaler.\n  warnings.warn(msg, DataConversionWarning)\n/home/nbuser/anaconda3_501/lib/python3.6/site-packages/sklearn/utils/validation.py:595: DataConversionWarning: Data with input dtype int64 was converted to float64 by StandardScaler.\n  warnings.warn(msg, DataConversionWarning)\n/home/nbuser/anaconda3_501/lib/python3.6/site-packages/sklearn/utils/validation.py:595: DataConversionWarning: Data with input dtype int64 was converted to float64 by StandardScaler.\n  warnings.warn(msg, DataConversionWarning)\n",
          "name": "stderr"
        }
      ]
    },
    {
      "metadata": {
        "trusted": true
      },
      "cell_type": "code",
      "source": "X_train",
      "execution_count": 13,
      "outputs": [
        {
          "output_type": "execute_result",
          "execution_count": 13,
          "data": {
            "text/plain": "array([[ 1.92295008e+00,  2.14601566e+00],\n       [ 2.02016082e+00,  3.78719297e-01],\n       [-1.38221530e+00, -4.32498705e-01],\n       [-1.18779381e+00, -1.01194013e+00],\n       [ 1.92295008e+00, -9.25023920e-01],\n       [ 3.67578135e-01,  2.91803083e-01],\n       [ 1.73156642e-01,  1.46942725e-01],\n       [ 2.02016082e+00,  1.74040666e+00],\n       [ 7.56421121e-01, -8.38107706e-01],\n       [ 2.70367388e-01, -2.87638347e-01],\n       [ 3.67578135e-01, -1.71750061e-01],\n       [-1.18475597e-01,  2.20395980e+00],\n       [-1.47942605e+00, -6.35303205e-01],\n       [-1.28500455e+00, -1.06988428e+00],\n       [-1.38221530e+00,  4.07691369e-01],\n       [-1.09058306e+00,  7.55356227e-01],\n       [-1.47942605e+00, -2.00722133e-01],\n       [ 9.50842613e-01, -1.06988428e+00],\n       [ 9.50842613e-01,  5.81523798e-01],\n       [ 3.67578135e-01,  9.87132798e-01],\n       [ 5.61999628e-01, -8.96051849e-01],\n       [-6.04529329e-01,  1.45068594e+00],\n       [-2.12648508e-02, -5.77359062e-01],\n       [-6.04529329e-01,  1.88526701e+00],\n       [ 1.33968560e+00, -1.41754914e+00],\n       [ 1.43689635e+00,  9.87132798e-01],\n       [ 7.59458956e-02, -8.09135634e-01],\n       [-2.12648508e-02, -2.58666276e-01],\n       [-2.15686344e-01, -5.77359062e-01],\n       [-2.15686344e-01, -2.00722133e-01],\n       [-3.12897090e-01, -1.30166085e+00],\n       [-3.12897090e-01, -5.77359062e-01],\n       [ 3.67578135e-01,  8.89985821e-02],\n       [ 8.53631867e-01, -6.06331134e-01],\n       [ 2.02016082e+00, -1.18577256e+00],\n       [ 1.04805336e+00, -1.42777990e-01],\n       [ 6.59210374e-01,  1.76937873e+00],\n       [-7.01740076e-01,  5.52551726e-01],\n       [ 7.56421121e-01,  3.49747226e-01],\n       [ 8.53631867e-01, -5.48386991e-01],\n       [-1.18779381e+00, -1.59138156e+00],\n       [ 2.11737157e+00,  9.29188655e-01],\n       [-2.12648508e-02,  1.21890937e+00],\n       [ 1.73156642e-01,  1.07404901e+00],\n       [ 3.67578135e-01, -4.90442848e-01],\n       [-3.12897090e-01, -3.16610419e-01],\n       [ 9.50842613e-01, -8.38107706e-01],\n       [ 9.50842613e-01,  1.85629494e+00],\n       [-2.12648508e-02,  1.24788144e+00],\n       [-8.96161568e-01,  2.26190394e+00],\n       [-1.18779381e+00, -1.59138156e+00],\n       [ 2.11737157e+00, -8.09135634e-01],\n       [-1.38221530e+00, -1.47549328e+00],\n       [ 3.67578135e-01,  2.29087602e+00],\n       [ 7.56421121e-01,  7.55356227e-01],\n       [-9.93372315e-01, -3.16610419e-01],\n       [ 7.59458956e-02,  7.55356227e-01],\n       [-9.93372315e-01,  5.52551726e-01],\n       [ 2.70367388e-01,  6.00265106e-02],\n       [ 6.59210374e-01, -1.27268878e+00],\n       [-5.07318583e-01, -2.68897039e-02],\n       [-1.77105829e+00,  3.49747226e-01],\n       [-7.01740076e-01,  1.17970654e-01],\n       [ 3.67578135e-01,  2.91803083e-01],\n       [-3.12897090e-01,  6.00265106e-02],\n       [-5.07318583e-01,  2.29087602e+00],\n       [ 1.73156642e-01,  3.10544391e-02],\n       [ 1.24247485e+00,  2.20395980e+00],\n       [ 7.56421121e-01,  2.62831011e-01],\n       [-3.12897090e-01,  1.46942725e-01],\n       [-2.12648508e-02, -5.48386991e-01],\n       [-2.15686344e-01,  1.46942725e-01],\n       [-1.18475597e-01,  2.33858940e-01],\n       [-2.12648508e-02, -2.58666276e-01],\n       [ 2.11737157e+00,  1.10302108e+00],\n       [-1.77105829e+00,  3.49747226e-01],\n       [ 1.82573933e+00,  1.17970654e-01],\n       [ 3.67578135e-01, -1.42777990e-01],\n       [-1.18779381e+00,  2.91803083e-01],\n       [ 7.56421121e-01,  1.36376973e+00],\n       [-3.12897090e-01, -2.58666276e-01],\n       [-1.67384754e+00, -5.58617754e-02],\n       [-9.93372315e-01, -7.51191491e-01],\n       [ 2.70367388e-01,  4.94607583e-01],\n       [-1.18475597e-01, -1.06988428e+00],\n       [-1.09058306e+00,  5.81523798e-01],\n       [ 7.59458956e-02, -8.09135634e-01],\n       [-9.93372315e-01,  1.53760216e+00],\n       [-7.01740076e-01,  1.39274180e+00],\n       [-1.28500455e+00,  4.94607583e-01],\n       [-3.12897090e-01,  3.10544391e-02],\n       [-1.18475597e-01,  2.08236764e-03],\n       [-3.12897090e-01, -8.96051849e-01],\n       [ 8.53631867e-01, -1.35960499e+00],\n       [-3.12897090e-01,  2.23293187e+00],\n       [ 9.50842613e-01,  1.97218323e+00],\n       [-1.18779381e+00,  4.65635512e-01],\n       [-1.28500455e+00,  2.62831011e-01],\n       [ 1.33968560e+00,  1.97218323e+00],\n       [ 1.24247485e+00, -1.35960499e+00],\n       [-3.12897090e-01, -2.87638347e-01],\n       [-5.07318583e-01,  1.24788144e+00],\n       [-7.98950822e-01,  1.07404901e+00],\n       [ 9.50842613e-01, -1.06988428e+00],\n       [ 2.70367388e-01,  2.91803083e-01],\n       [ 9.50842613e-01,  7.55356227e-01],\n       [-7.01740076e-01, -1.50446535e+00],\n       [-7.01740076e-01,  3.10544391e-02],\n       [ 4.64788881e-01,  1.71143459e+00],\n       [ 2.02016082e+00,  1.75914797e-01],\n       [-1.96547978e+00, -7.51191491e-01],\n       [-2.15686344e-01,  1.39274180e+00],\n       [ 3.67578135e-01,  5.81523798e-01],\n       [ 8.53631867e-01, -1.15680049e+00],\n       [-1.18779381e+00, -7.80163563e-01],\n       [ 1.73156642e-01,  2.33858940e-01],\n       [ 7.56421121e-01, -3.16610419e-01],\n       [ 2.02016082e+00, -8.09135634e-01],\n       [ 7.56421121e-01,  1.17970654e-01],\n       [-3.12897090e-01,  6.10495869e-01],\n       [-9.93372315e-01, -3.16610419e-01],\n       [ 1.73156642e-01, -3.74554562e-01],\n       [ 2.02016082e+00,  2.11704359e+00],\n       [ 1.82573933e+00, -1.27268878e+00],\n       [ 1.33968560e+00, -9.25023920e-01],\n       [ 8.53631867e-01,  1.24788144e+00],\n       [ 1.43689635e+00,  2.11704359e+00],\n       [-3.12897090e-01, -1.24371671e+00],\n       [ 1.92295008e+00,  9.00216584e-01],\n       [ 6.59210374e-01, -7.22219420e-01],\n       [-1.47942605e+00,  3.49747226e-01],\n       [ 7.56421121e-01, -1.35960499e+00],\n       [ 3.67578135e-01, -1.42777990e-01],\n       [-9.93372315e-01,  4.07691369e-01],\n       [-2.12648508e-02, -3.16610419e-01],\n       [-1.18779381e+00,  4.07691369e-01],\n       [-8.96161568e-01, -1.21474464e+00],\n       [-1.18475597e-01,  3.10544391e-02],\n       [-1.57663679e+00, -4.32498705e-01],\n       [ 9.50842613e-01, -1.01194013e+00],\n       [ 1.04805336e+00, -1.21474464e+00],\n       [-2.12648508e-02, -1.42777990e-01],\n       [-1.09058306e+00, -1.53343742e+00],\n       [ 7.56421121e-01, -1.21474464e+00],\n       [ 9.50842613e-01,  2.05909944e+00],\n       [-1.18779381e+00, -1.53343742e+00],\n       [-3.12897090e-01,  7.84328298e-01],\n       [ 7.59458956e-02, -3.16610419e-01],\n       [-1.38221530e+00, -1.24371671e+00],\n       [-6.04529329e-01, -1.50446535e+00],\n       [ 7.56421121e-01,  5.23579655e-01],\n       [-3.12897090e-01, -3.45582490e-01],\n       [ 1.72852858e+00, -2.87638347e-01],\n       [ 8.53631867e-01, -1.04091221e+00],\n       [ 1.73156642e-01,  6.00265106e-02],\n       [-6.04529329e-01,  8.71244512e-01],\n       [-1.86826903e+00, -1.41754914e+00],\n       [-1.28500455e+00,  5.81523798e-01],\n       [-3.12897090e-01,  5.23579655e-01],\n       [-9.93372315e-01, -1.09885635e+00],\n       [ 1.14526411e+00, -1.44652121e+00],\n       [ 1.73156642e-01, -3.16610419e-01],\n       [ 1.14526411e+00, -7.51191491e-01],\n       [-3.12897090e-01,  6.00265106e-02],\n       [ 1.73156642e-01,  2.08807152e+00],\n       [ 7.56421121e-01, -1.09885635e+00],\n       [ 7.59458956e-02,  3.10544391e-02],\n       [-1.77105829e+00,  1.17970654e-01],\n       [-8.96161568e-01,  1.46942725e-01],\n       [-7.01740076e-01,  1.75914797e-01],\n       [ 8.53631867e-01, -1.30166085e+00],\n       [ 1.73156642e-01, -2.58666276e-01],\n       [-4.10107836e-01,  1.21890937e+00],\n       [-2.12648508e-02,  2.91803083e-01],\n       [ 3.67578135e-01,  1.46942725e-01],\n       [ 8.53631867e-01, -6.64275277e-01],\n       [ 7.59458956e-02,  1.46942725e-01],\n       [-1.86826903e+00, -1.30166085e+00],\n       [-1.18475597e-01,  2.91803083e-01],\n       [-2.15686344e-01, -2.87638347e-01],\n       [ 2.70367388e-01, -5.19414919e-01],\n       [-2.15686344e-01,  1.59554630e+00],\n       [ 9.50842613e-01, -1.18577256e+00],\n       [-2.15686344e-01,  1.62451837e+00],\n       [ 1.24247485e+00,  1.85629494e+00],\n       [-1.09058306e+00, -3.74554562e-01],\n       [-2.12648508e-02,  3.10544391e-02],\n       [ 7.59458956e-02, -2.58666276e-01],\n       [-1.57663679e+00, -1.24371671e+00],\n       [-5.07318583e-01, -2.87638347e-01],\n       [ 9.50842613e-01,  1.17970654e-01],\n       [ 1.92295008e+00, -1.35960499e+00],\n       [ 1.43689635e+00,  6.00265106e-02],\n       [-6.04529329e-01,  1.36376973e+00],\n       [ 1.53410709e+00,  2.08236764e-03],\n       [-7.98950822e-01,  2.91803083e-01],\n       [ 1.92295008e+00,  7.26384155e-01],\n       [-1.18779381e+00, -5.19414919e-01],\n       [ 6.59210374e-01,  2.62831011e-01],\n       [-1.38221530e+00, -4.32498705e-01],\n       [ 1.73156642e-01,  1.46942725e-01],\n       [-5.07318583e-01, -1.21474464e+00],\n       [ 5.61999628e-01,  2.00115530e+00],\n       [-1.57663679e+00, -1.50446535e+00],\n       [-5.07318583e-01, -5.48386991e-01],\n       [ 4.64788881e-01,  1.82732287e+00],\n       [-1.38221530e+00, -1.09885635e+00],\n       [ 7.56421121e-01, -1.38857706e+00],\n       [-3.12897090e-01, -4.32498705e-01],\n       [ 1.53410709e+00,  9.87132798e-01],\n       [ 9.50842613e-01,  1.42171387e+00],\n       [-3.12897090e-01, -4.90442848e-01],\n       [-1.18475597e-01,  2.14601566e+00],\n       [-1.47942605e+00, -1.13805918e-01],\n       [-1.18475597e-01,  1.94321116e+00],\n       [-7.01740076e-01, -3.45582490e-01],\n       [-5.07318583e-01, -8.38107706e-01],\n       [ 6.59210374e-01, -1.38857706e+00],\n       [-7.98950822e-01, -1.59138156e+00],\n       [-1.86826903e+00, -1.47549328e+00],\n       [ 1.04805336e+00,  1.17970654e-01],\n       [ 7.59458956e-02,  1.50863009e+00],\n       [-3.12897090e-01,  8.89985821e-02],\n       [ 7.59458956e-02,  3.10544391e-02],\n       [-1.38221530e+00, -1.35960499e+00],\n       [ 2.70367388e-01,  6.00265106e-02],\n       [-8.96161568e-01,  3.78719297e-01],\n       [ 1.53410709e+00, -1.27268878e+00],\n       [-3.12897090e-01, -7.51191491e-01],\n       [-1.18475597e-01,  1.46942725e-01],\n       [-8.96161568e-01, -6.64275277e-01],\n       [-7.01740076e-01, -5.58617754e-02],\n       [ 3.67578135e-01, -4.61470776e-01],\n       [-7.98950822e-01,  1.88526701e+00],\n       [ 1.33968560e+00,  1.27685351e+00],\n       [ 1.14526411e+00, -9.82968063e-01],\n       [ 1.72852858e+00,  1.82732287e+00],\n       [-8.96161568e-01, -2.58666276e-01],\n       [-7.98950822e-01,  5.52551726e-01],\n       [-1.18779381e+00, -1.56240949e+00],\n       [-5.07318583e-01, -1.12782842e+00],\n       [ 2.70367388e-01,  6.00265106e-02],\n       [-2.15686344e-01, -1.06988428e+00],\n       [ 1.63131784e+00,  1.59554630e+00],\n       [ 9.50842613e-01,  1.76937873e+00],\n       [ 2.70367388e-01,  3.10544391e-02],\n       [-7.98950822e-01, -2.29694204e-01],\n       [-1.18475597e-01,  6.00265106e-02],\n       [ 2.70367388e-01, -2.00722133e-01],\n       [ 1.92295008e+00, -6.64275277e-01],\n       [-7.98950822e-01,  1.33479766e+00],\n       [-1.77105829e+00, -6.06331134e-01],\n       [-1.18475597e-01,  1.17970654e-01],\n       [ 2.70367388e-01, -3.16610419e-01],\n       [ 1.04805336e+00,  5.52551726e-01],\n       [-9.93372315e-01,  2.62831011e-01],\n       [ 1.43689635e+00,  3.49747226e-01],\n       [ 1.73156642e-01, -3.74554562e-01],\n       [ 2.11737157e+00, -1.04091221e+00],\n       [-3.12897090e-01,  1.10302108e+00],\n       [-1.67384754e+00,  6.00265106e-02],\n       [-2.12648508e-02,  3.10544391e-02],\n       [ 7.59458956e-02,  1.04507694e+00],\n       [-1.18475597e-01, -3.74554562e-01],\n       [-1.18779381e+00,  6.00265106e-02],\n       [-3.12897090e-01, -1.35960499e+00],\n       [ 1.53410709e+00,  1.10302108e+00],\n       [-7.98950822e-01, -1.53343742e+00],\n       [ 7.59458956e-02,  1.85629494e+00],\n       [-8.96161568e-01, -7.80163563e-01],\n       [-5.07318583e-01, -7.80163563e-01],\n       [-3.12897090e-01, -9.25023920e-01],\n       [ 2.70367388e-01, -7.22219420e-01],\n       [ 2.70367388e-01,  6.00265106e-02],\n       [ 7.59458956e-02,  1.85629494e+00],\n       [-1.09058306e+00,  1.94321116e+00],\n       [-1.67384754e+00, -1.56240949e+00],\n       [-1.18779381e+00, -1.09885635e+00],\n       [-7.01740076e-01, -1.13805918e-01],\n       [ 7.59458956e-02,  8.89985821e-02],\n       [ 2.70367388e-01,  2.62831011e-01],\n       [ 8.53631867e-01, -5.77359062e-01],\n       [ 2.70367388e-01, -1.15680049e+00],\n       [-1.18475597e-01,  6.68440012e-01],\n       [ 2.11737157e+00, -6.93247348e-01],\n       [-1.28500455e+00, -1.38857706e+00],\n       [-9.93372315e-01, -9.53995992e-01],\n       [-2.12648508e-02, -4.32498705e-01],\n       [-2.15686344e-01, -4.61470776e-01],\n       [-1.77105829e+00, -9.82968063e-01],\n       [ 1.72852858e+00,  9.87132798e-01],\n       [ 1.73156642e-01, -3.74554562e-01],\n       [ 3.67578135e-01,  1.10302108e+00],\n       [-1.77105829e+00, -1.35960499e+00],\n       [ 1.73156642e-01, -1.42777990e-01],\n       [ 8.53631867e-01, -1.44652121e+00],\n       [-1.96547978e+00,  4.65635512e-01],\n       [-3.12897090e-01,  2.62831011e-01],\n       [ 1.82573933e+00, -1.06988428e+00],\n       [-4.10107836e-01,  6.00265106e-02],\n       [ 1.04805336e+00, -8.96051849e-01],\n       [-1.09058306e+00, -1.12782842e+00],\n       [-1.86826903e+00,  2.08236764e-03],\n       [ 7.59458956e-02,  2.62831011e-01],\n       [-1.18779381e+00,  3.20775154e-01],\n       [-1.28500455e+00,  2.91803083e-01],\n       [-9.93372315e-01,  4.36663440e-01],\n       [ 1.63131784e+00, -8.96051849e-01],\n       [ 1.14526411e+00,  5.23579655e-01],\n       [ 1.04805336e+00,  5.23579655e-01],\n       [ 1.33968560e+00,  2.31984809e+00],\n       [-3.12897090e-01, -1.42777990e-01],\n       [ 3.67578135e-01, -4.61470776e-01],\n       [-4.10107836e-01, -7.80163563e-01],\n       [-1.18475597e-01, -5.19414919e-01],\n       [ 9.50842613e-01, -1.15680049e+00],\n       [-8.96161568e-01, -7.80163563e-01],\n       [-2.15686344e-01, -5.19414919e-01],\n       [-1.09058306e+00, -4.61470776e-01],\n       [-1.18779381e+00,  1.39274180e+00]])"
          },
          "metadata": {}
        }
      ]
    },
    {
      "metadata": {
        "trusted": true
      },
      "cell_type": "code",
      "source": "X_test",
      "execution_count": 14,
      "outputs": [
        {
          "output_type": "execute_result",
          "execution_count": 14,
          "data": {
            "text/plain": "array([[-0.49618606,  0.56021375],\n       [ 0.2389044 , -0.59133674],\n       [-0.03675452,  0.18673792],\n       [-0.49618606,  0.31122986],\n       [-0.03675452, -0.59133674],\n       [-0.77184498, -1.52502632],\n       [-0.40429975, -1.68064126],\n       [ 0.05513178,  2.33422397],\n       [-1.59882175, -0.03112299],\n       [ 1.06588117, -0.80919764],\n       [-0.49618606, -0.62245972],\n       [-0.67995868, -0.43572181],\n       [ 0.14701809, -0.43572181],\n       [ 0.33079071,  0.24898389],\n       [-1.41504914,  0.52909077],\n       [-0.31241345,  1.49390334],\n       [ 0.14701809,  0.24898389],\n       [-1.50693545,  0.49796778],\n       [ 1.80097163,  1.89850216],\n       [-0.03675452, -1.46278035],\n       [-0.03675452, -0.6847057 ],\n       [ 1.06588117,  2.33422397],\n       [ 0.51456332, -0.56021375],\n       [ 1.06588117,  1.1204275 ],\n       [-1.13939022, -1.27604243],\n       [ 1.24965379,  2.24085501],\n       [-0.67995868,  0.56021375],\n       [-0.58807237,  0.34235285],\n       [ 0.14701809, -0.2178609 ],\n       [-0.31241345,  0.52909077],\n       [-1.32316283,  0.59133674],\n       [ 0.14701809,  0.31122986],\n       [ 1.98474425, -0.28010688],\n       [ 0.14701809, -0.49796778],\n       [-1.04750391, -0.34235285],\n       [-1.59882175, -0.52909077],\n       [-1.23127652,  0.37347583],\n       [-0.12864083, -0.80919764],\n       [-0.40429975, -1.08930452],\n       [ 1.24965379, -1.02705855],\n       [-0.77184498,  0.59133674],\n       [ 0.51456332, -0.52909077],\n       [-0.77184498,  0.46684479],\n       [-0.03675452, -1.52502632],\n       [ 0.69833594,  1.33828841],\n       [-0.77184498, -0.34235285],\n       [ 0.14701809,  0.34235285],\n       [ 1.52531271,  0.65358271],\n       [-0.86373129, -1.21379646],\n       [ 1.24965379,  0.52909077],\n       [ 1.98474425,  1.64951827],\n       [-0.12864083, -1.36941139],\n       [-0.03675452, -0.37347583],\n       [-0.12864083,  1.43165737],\n       [ 2.16851686,  0.59133674],\n       [ 0.88210855, -1.15155049],\n       [-0.58807237,  0.43572181],\n       [-0.86373129,  0.34235285],\n       [ 1.24965379, -1.27604243],\n       [-1.13939022, -1.52502632],\n       [-0.31241345, -1.5872723 ],\n       [ 2.26040317, -0.84032063],\n       [-1.50693545,  0.2178609 ],\n       [ 0.05513178,  0.93368959],\n       [-1.50693545, -1.33828841],\n       [ 2.26040317,  0.43572181],\n       [-1.04750391,  0.62245972],\n       [-0.77184498, -0.34235285],\n       [ 0.42267702, -0.6847057 ],\n       [ 0.60644963,  0.03112299],\n       [-0.31241345,  2.52096188],\n       [-0.03675452,  0.24898389],\n       [-1.23127652, -0.18673792],\n       [ 0.88210855, -1.46278035],\n       [-0.77184498,  0.62245972],\n       [-1.59882175,  0.40459882],\n       [ 0.60644963,  0.31122986],\n       [ 0.42267702, -0.28010688],\n       [ 1.61719902, -1.08930452],\n       [ 1.06588117,  1.18267348]])"
          },
          "metadata": {}
        }
      ]
    },
    {
      "metadata": {
        "trusted": true
      },
      "cell_type": "code",
      "source": "from sklearn.linear_model import LogisticRegression\nmodel = LogisticRegression()",
      "execution_count": 15,
      "outputs": []
    },
    {
      "metadata": {
        "trusted": true
      },
      "cell_type": "code",
      "source": "model.fit(X_train,y_train)",
      "execution_count": 16,
      "outputs": [
        {
          "output_type": "stream",
          "text": "/home/nbuser/anaconda3_501/lib/python3.6/site-packages/sklearn/linear_model/logistic.py:433: FutureWarning: Default solver will be changed to 'lbfgs' in 0.22. Specify a solver to silence this warning.\n  FutureWarning)\n",
          "name": "stderr"
        },
        {
          "output_type": "execute_result",
          "execution_count": 16,
          "data": {
            "text/plain": "LogisticRegression(C=1.0, class_weight=None, dual=False, fit_intercept=True,\n          intercept_scaling=1, max_iter=100, multi_class='warn',\n          n_jobs=None, penalty='l2', random_state=None, solver='warn',\n          tol=0.0001, verbose=0, warm_start=False)"
          },
          "metadata": {}
        }
      ]
    },
    {
      "metadata": {
        "trusted": true
      },
      "cell_type": "code",
      "source": "y_pred = model.predict(X_test)\ny_pred",
      "execution_count": 28,
      "outputs": [
        {
          "output_type": "execute_result",
          "execution_count": 28,
          "data": {
            "text/plain": "array([0, 0, 0, 0, 0, 0, 0, 1, 0, 1, 0, 0, 0, 1, 0, 1, 0, 0, 1, 0, 0, 1,\n       0, 1, 0, 1, 0, 0, 0, 0, 0, 0, 1, 0, 0, 0, 0, 0, 0, 1, 0, 0, 0, 0,\n       1, 0, 0, 1, 0, 1, 1, 0, 0, 1, 1, 0, 0, 0, 1, 0, 0, 1, 0, 1, 0, 1,\n       0, 0, 0, 1, 1, 0, 0, 0, 0, 0, 1, 0, 1, 1])"
          },
          "metadata": {}
        }
      ]
    },
    {
      "metadata": {
        "trusted": true
      },
      "cell_type": "code",
      "source": "# Accuaracy of model\nmodel.score(X_test,y_test)*100",
      "execution_count": 29,
      "outputs": [
        {
          "output_type": "execute_result",
          "execution_count": 29,
          "data": {
            "text/plain": "88.75"
          },
          "metadata": {}
        }
      ]
    },
    {
      "metadata": {
        "trusted": true
      },
      "cell_type": "code",
      "source": "# Probablity of each person to buy or not\nmodel.predict_proba(X_test)",
      "execution_count": 30,
      "outputs": [
        {
          "output_type": "execute_result",
          "execution_count": 30,
          "data": {
            "text/plain": "array([[0.77437492, 0.22562508],\n       [0.73263292, 0.26736708],\n       [0.67259837, 0.32740163],\n       [0.81773012, 0.18226988],\n       [0.82592689, 0.17407311],\n       [0.98245935, 0.01754065],\n       [0.96955575, 0.03044425],\n       [0.14512549, 0.85487451],\n       [0.98313307, 0.01686693],\n       [0.40020188, 0.59979812],\n       [0.92452845, 0.07547155],\n       [0.93527161, 0.06472839],\n       [0.7356754 , 0.2643246 ],\n       [0.48025617, 0.51974383],\n       [0.95675613, 0.04324387],\n       [0.4657267 , 0.5342733 ],\n       [0.57125892, 0.42874108],\n       [0.96487816, 0.03512184],\n       [0.00831247, 0.99168753],\n       [0.92375884, 0.07624116],\n       [0.83989934, 0.16010066],\n       [0.02217452, 0.97782548],\n       [0.60480596, 0.39519404],\n       [0.07723242, 0.92276758],\n       [0.98890043, 0.01109957],\n       [0.01709133, 0.98290867],\n       [0.83190476, 0.16809524],\n       [0.83896726, 0.16103274],\n       [0.68766628, 0.31233372],\n       [0.7110848 , 0.2889152 ],\n       [0.94514912, 0.05485088],\n       [0.5547851 , 0.4452149 ],\n       [0.05711591, 0.94288409],\n       [0.74849031, 0.25150969],\n       [0.96450421, 0.03549579],\n       [0.99005917, 0.00994083],\n       [0.9477525 , 0.0522475 ],\n       [0.87808437, 0.12191563],\n       [0.94399962, 0.05600038],\n       [0.36906032, 0.63093968],\n       [0.85178968, 0.14821032],\n       [0.59677562, 0.40322438],\n       [0.8679139 , 0.1320861 ],\n       [0.92834331, 0.07165669],\n       [0.12100725, 0.87899275],\n       [0.94009334, 0.05990666],\n       [0.54650047, 0.45349953],\n       [0.05248425, 0.94751575],\n       [0.97964199, 0.02035801],\n       [0.09882129, 0.90117871],\n       [0.00754127, 0.99245873],\n       [0.92937341, 0.07062659],\n       [0.78962247, 0.21037753],\n       [0.39261135, 0.60738865],\n       [0.01618449, 0.98381551],\n       [0.58168458, 0.41831542],\n       [0.82493042, 0.17506958],\n       [0.90021113, 0.09978887],\n       [0.43330296, 0.56669704],\n       [0.99148648, 0.00851352],\n       [0.95997832, 0.04002168],\n       [0.06007656, 0.93992344],\n       [0.97377645, 0.02622355],\n       [0.43373473, 0.56626527],\n       [0.99497686, 0.00502314],\n       [0.01593814, 0.98406186],\n       [0.9058712 , 0.0941288 ],\n       [0.94009334, 0.05990666],\n       [0.67753463, 0.32246537],\n       [0.40284005, 0.59715995],\n       [0.22404612, 0.77595388],\n       [0.65768509, 0.34231491],\n       [0.97071029, 0.02928971],\n       [0.66027516, 0.33972484],\n       [0.8475127 , 0.1524873 ],\n       [0.97331562, 0.02668438],\n       [0.33292379, 0.66707621],\n       [0.57619884, 0.42380116],\n       [0.23124474, 0.76875526],\n       [0.07259302, 0.92740698]])"
          },
          "metadata": {}
        }
      ]
    },
    {
      "metadata": {
        "trusted": true
      },
      "cell_type": "code",
      "source": "# test the model [0=Buy and 1=Not]\nmodel.predict([[19,57000]])",
      "execution_count": 31,
      "outputs": [
        {
          "output_type": "execute_result",
          "execution_count": 31,
          "data": {
            "text/plain": "array([1])"
          },
          "metadata": {}
        }
      ]
    },
    {
      "metadata": {
        "trusted": true
      },
      "cell_type": "code",
      "source": "from sklearn.metrics import classification_report\nprint(classification_report(y_test, y_pred))",
      "execution_count": 32,
      "outputs": [
        {
          "output_type": "stream",
          "text": "              precision    recall  f1-score   support\n\n           0       0.95      0.90      0.92        58\n           1       0.76      0.86      0.81        22\n\n   micro avg       0.89      0.89      0.89        80\n   macro avg       0.85      0.88      0.86        80\nweighted avg       0.89      0.89      0.89        80\n\n",
          "name": "stdout"
        }
      ]
    },
    {
      "metadata": {
        "trusted": true
      },
      "cell_type": "code",
      "source": "from sklearn.metrics import confusion_matrix\nprint(confusion_matrix(y_test,y_pred))",
      "execution_count": 33,
      "outputs": [
        {
          "output_type": "stream",
          "text": "[[52  6]\n [ 3 19]]\n",
          "name": "stdout"
        }
      ]
    },
    {
      "metadata": {
        "trusted": true
      },
      "cell_type": "code",
      "source": "import matplotlib.pyplot as plt\nimport seaborn as sns\nconf_mat = confusion_matrix(y_test, y_pred)\nsns.heatmap(conf_mat/np.sum(conf_mat), annot=True, \n            fmt='.2%', cmap='Blues')\nplt.ylabel('Actual Value')\nplt.xlabel('Predicted Value')\nplt.show()",
      "execution_count": 34,
      "outputs": [
        {
          "output_type": "display_data",
          "data": {
            "image/png": "[encoded data removed]",
            "text/plain": "<Figure size 432x288 with 2 Axes>"
          },
          "metadata": {
            "needs_background": "light"
          }
        }
      ]
    },
    {
      "metadata": {
        "trusted": true
      },
      "cell_type": "code",
      "source": "",
      "execution_count": null,
      "outputs": []
    }
  ],
  "metadata": {
    "kernelspec": {
      "name": "python36",
      "display_name": "Python 3.6",
      "language": "python"
    },
    "language_info": {
      "mimetype": "text/x-python",
      "nbconvert_exporter": "python",
      "name": "python",
      "pygments_lexer": "ipython3",
      "version": "3.6.6",
      "file_extension": ".py",
      "codemirror_mode": {
        "version": 3,
        "name": "ipython"
      }
    }
  },
  "nbformat": 4,
  "nbformat_minor": 2
}