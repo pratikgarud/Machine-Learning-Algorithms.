{
  "cells": [
    {
      "metadata": {
        "trusted": true
      },
      "cell_type": "code",
      "source": "import pandas as pd\nimport numpy as np\nimport matplotlib.pyplot as plt",
      "execution_count": 1,
      "outputs": []
    },
    {
      "metadata": {
        "trusted": true
      },
      "cell_type": "code",
      "source": "d = {'Name': ['pratik','kartik','kishor','ishwar','rahul','pasha','aryan','sanket','srb',\n              'prashant','yogesh','vicky','john','neha','komal','pooja','dock','bard','rambo','rocky','allu','salman'],\n     'Age' : [27,29,29,28,42,39,41,38,36,35,37,26,27,28,29,32,40,41,43,39,41,39], \n    'Income' : [70000,90000,61000,60000,150000,155000,160000,162000,156000,130000,137000,45000,48000,\n                51000,49500,53000,65000,63000,64000,80000,82000,58000]}\ndf = pd.DataFrame(data=d)\ndf",
      "execution_count": 2,
      "outputs": [
        {
          "output_type": "execute_result",
          "execution_count": 2,
          "data": {
            "text/html": "<div>\n<style scoped>\n    .dataframe tbody tr th:only-of-type {\n        vertical-align: middle;\n    }\n\n    .dataframe tbody tr th {\n        vertical-align: top;\n    }\n\n    .dataframe thead th {\n        text-align: right;\n    }\n</style>\n<table border=\"1\" class=\"dataframe\">\n  <thead>\n    <tr style=\"text-align: right;\">\n      <th></th>\n      <th>Name</th>\n      <th>Age</th>\n      <th>Income</th>\n    </tr>\n  </thead>\n  <tbody>\n    <tr>\n      <th>0</th>\n      <td>pratik</td>\n      <td>27</td>\n      <td>70000</td>\n    </tr>\n    <tr>\n      <th>1</th>\n      <td>kartik</td>\n      <td>29</td>\n      <td>90000</td>\n    </tr>\n    <tr>\n      <th>2</th>\n      <td>kishor</td>\n      <td>29</td>\n      <td>61000</td>\n    </tr>\n    <tr>\n      <th>3</th>\n      <td>ishwar</td>\n      <td>28</td>\n      <td>60000</td>\n    </tr>\n    <tr>\n      <th>4</th>\n      <td>rahul</td>\n      <td>42</td>\n      <td>150000</td>\n    </tr>\n    <tr>\n      <th>5</th>\n      <td>pasha</td>\n      <td>39</td>\n      <td>155000</td>\n    </tr>\n    <tr>\n      <th>6</th>\n      <td>aryan</td>\n      <td>41</td>\n      <td>160000</td>\n    </tr>\n    <tr>\n      <th>7</th>\n      <td>sanket</td>\n      <td>38</td>\n      <td>162000</td>\n    </tr>\n    <tr>\n      <th>8</th>\n      <td>srb</td>\n      <td>36</td>\n      <td>156000</td>\n    </tr>\n    <tr>\n      <th>9</th>\n      <td>prashant</td>\n      <td>35</td>\n      <td>130000</td>\n    </tr>\n    <tr>\n      <th>10</th>\n      <td>yogesh</td>\n      <td>37</td>\n      <td>137000</td>\n    </tr>\n    <tr>\n      <th>11</th>\n      <td>vicky</td>\n      <td>26</td>\n      <td>45000</td>\n    </tr>\n    <tr>\n      <th>12</th>\n      <td>john</td>\n      <td>27</td>\n      <td>48000</td>\n    </tr>\n    <tr>\n      <th>13</th>\n      <td>neha</td>\n      <td>28</td>\n      <td>51000</td>\n    </tr>\n    <tr>\n      <th>14</th>\n      <td>komal</td>\n      <td>29</td>\n      <td>49500</td>\n    </tr>\n    <tr>\n      <th>15</th>\n      <td>pooja</td>\n      <td>32</td>\n      <td>53000</td>\n    </tr>\n    <tr>\n      <th>16</th>\n      <td>dock</td>\n      <td>40</td>\n      <td>65000</td>\n    </tr>\n    <tr>\n      <th>17</th>\n      <td>bard</td>\n      <td>41</td>\n      <td>63000</td>\n    </tr>\n    <tr>\n      <th>18</th>\n      <td>rambo</td>\n      <td>43</td>\n      <td>64000</td>\n    </tr>\n    <tr>\n      <th>19</th>\n      <td>rocky</td>\n      <td>39</td>\n      <td>80000</td>\n    </tr>\n    <tr>\n      <th>20</th>\n      <td>allu</td>\n      <td>41</td>\n      <td>82000</td>\n    </tr>\n    <tr>\n      <th>21</th>\n      <td>salman</td>\n      <td>39</td>\n      <td>58000</td>\n    </tr>\n  </tbody>\n</table>\n</div>",
            "text/plain": "        Name  Age  Income\n0     pratik   27   70000\n1     kartik   29   90000\n2     kishor   29   61000\n3     ishwar   28   60000\n4      rahul   42  150000\n5      pasha   39  155000\n6      aryan   41  160000\n7     sanket   38  162000\n8        srb   36  156000\n9   prashant   35  130000\n10    yogesh   37  137000\n11     vicky   26   45000\n12      john   27   48000\n13      neha   28   51000\n14     komal   29   49500\n15     pooja   32   53000\n16      dock   40   65000\n17      bard   41   63000\n18     rambo   43   64000\n19     rocky   39   80000\n20      allu   41   82000\n21    salman   39   58000"
          },
          "metadata": {}
        }
      ]
    },
    {
      "metadata": {
        "trusted": true
      },
      "cell_type": "code",
      "source": "df.to_csv('Income.csv')",
      "execution_count": 3,
      "outputs": []
    },
    {
      "metadata": {
        "trusted": true
      },
      "cell_type": "code",
      "source": "plt.scatter(df['Age'],df['Income'])\nplt.show()",
      "execution_count": 4,
      "outputs": [
        {
          "output_type": "display_data",
          "data": {
            "image/png": "[encoded data removed]",
            "text/plain": "<Figure size 432x288 with 1 Axes>"
          },
          "metadata": {
            "needs_background": "light"
          }
        }
      ]
    },
    {
      "metadata": {
        "trusted": true
      },
      "cell_type": "code",
      "source": "from sklearn.cluster import KMeans",
      "execution_count": 6,
      "outputs": []
    },
    {
      "metadata": {
        "trusted": true
      },
      "cell_type": "code",
      "source": "km = KMeans(n_clusters=3)\nkm",
      "execution_count": 7,
      "outputs": [
        {
          "output_type": "execute_result",
          "execution_count": 7,
          "data": {
            "text/plain": "KMeans(algorithm='auto', copy_x=True, init='k-means++', max_iter=300,\n    n_clusters=3, n_init=10, n_jobs=None, precompute_distances='auto',\n    random_state=None, tol=0.0001, verbose=0)"
          },
          "metadata": {}
        }
      ]
    },
    {
      "metadata": {
        "trusted": true
      },
      "cell_type": "code",
      "source": "y_pred = km.fit_predict(df[['Age','Income']])\ny_pred",
      "execution_count": 8,
      "outputs": [
        {
          "output_type": "execute_result",
          "execution_count": 8,
          "data": {
            "text/plain": "array([2, 2, 0, 0, 1, 1, 1, 1, 1, 1, 1, 0, 0, 0, 0, 0, 0, 0, 0, 2, 2, 0],\n      dtype=int32)"
          },
          "metadata": {}
        }
      ]
    },
    {
      "metadata": {
        "trusted": true
      },
      "cell_type": "code",
      "source": "df['Cluster'] = y_pred\ndf.head()",
      "execution_count": 9,
      "outputs": [
        {
          "output_type": "execute_result",
          "execution_count": 9,
          "data": {
            "text/html": "<div>\n<style scoped>\n    .dataframe tbody tr th:only-of-type {\n        vertical-align: middle;\n    }\n\n    .dataframe tbody tr th {\n        vertical-align: top;\n    }\n\n    .dataframe thead th {\n        text-align: right;\n    }\n</style>\n<table border=\"1\" class=\"dataframe\">\n  <thead>\n    <tr style=\"text-align: right;\">\n      <th></th>\n      <th>Name</th>\n      <th>Age</th>\n      <th>Income</th>\n      <th>Cluster</th>\n    </tr>\n  </thead>\n  <tbody>\n    <tr>\n      <th>0</th>\n      <td>pratik</td>\n      <td>27</td>\n      <td>70000</td>\n      <td>2</td>\n    </tr>\n    <tr>\n      <th>1</th>\n      <td>kartik</td>\n      <td>29</td>\n      <td>90000</td>\n      <td>2</td>\n    </tr>\n    <tr>\n      <th>2</th>\n      <td>kishor</td>\n      <td>29</td>\n      <td>61000</td>\n      <td>0</td>\n    </tr>\n    <tr>\n      <th>3</th>\n      <td>ishwar</td>\n      <td>28</td>\n      <td>60000</td>\n      <td>0</td>\n    </tr>\n    <tr>\n      <th>4</th>\n      <td>rahul</td>\n      <td>42</td>\n      <td>150000</td>\n      <td>1</td>\n    </tr>\n  </tbody>\n</table>\n</div>",
            "text/plain": "     Name  Age  Income  Cluster\n0  pratik   27   70000        2\n1  kartik   29   90000        2\n2  kishor   29   61000        0\n3  ishwar   28   60000        0\n4   rahul   42  150000        1"
          },
          "metadata": {}
        }
      ]
    },
    {
      "metadata": {
        "trusted": true
      },
      "cell_type": "code",
      "source": "km.cluster_centers_",
      "execution_count": 21,
      "outputs": [
        {
          "output_type": "execute_result",
          "execution_count": 21,
          "data": {
            "text/plain": "array([[3.29090909e+01, 5.61363636e+04],\n       [3.82857143e+01, 1.50000000e+05],\n       [3.40000000e+01, 8.05000000e+04]])"
          },
          "metadata": {}
        }
      ]
    },
    {
      "metadata": {
        "trusted": true
      },
      "cell_type": "code",
      "source": "df1 = df[df.Cluster==0]\ndf2 = df[df.Cluster==1]\ndf3 = df[df.Cluster==2]\n\nplt.scatter(df1.Age,df1['Income'],color='Green')\nplt.scatter(df2.Age,df2['Income'],color='Red')\nplt.scatter(df3.Age,df3['Income'],color='Blue')\nplt.scatter(km.cluster_centers_[:,0],km.cluster_centers_[:,1],color='purple',marker='*',label='centroid')\n\nplt.xlabel('Age')\nplt.ylabel('Income')\nplt.show()",
      "execution_count": 22,
      "outputs": [
        {
          "output_type": "display_data",
          "data": {
            "image/png": "[encoded data removed]",
            "text/plain": "<Figure size 432x288 with 1 Axes>"
          },
          "metadata": {
            "needs_background": "light"
          }
        }
      ]
    },
    {
      "metadata": {
        "trusted": true
      },
      "cell_type": "code",
      "source": "from sklearn.preprocessing import MinMaxScaler",
      "execution_count": 23,
      "outputs": []
    },
    {
      "metadata": {
        "trusted": true
      },
      "cell_type": "code",
      "source": "df.dtypes",
      "execution_count": 19,
      "outputs": [
        {
          "output_type": "execute_result",
          "execution_count": 19,
          "data": {
            "text/plain": "Name        object\nAge        float64\nIncome     float64\nCluster      int32\ndtype: object"
          },
          "metadata": {}
        }
      ]
    },
    {
      "metadata": {
        "trusted": true
      },
      "cell_type": "code",
      "source": "df['Income'] = df['Income'].astype('float64')\ndf['Age'] = df['Age'].astype('float64')",
      "execution_count": 18,
      "outputs": []
    },
    {
      "metadata": {
        "trusted": true
      },
      "cell_type": "code",
      "source": "scaler = MinMaxScaler()\n\nscaler.fit(df[['Income']])\ndf['Income'] = scaler.transform(df[['Income']])\n\nscaler.fit(df[['Age']])\ndf['Age'] = scaler.transform(df[['Age']])",
      "execution_count": 25,
      "outputs": []
    },
    {
      "metadata": {
        "trusted": true
      },
      "cell_type": "code",
      "source": "df.head()",
      "execution_count": 27,
      "outputs": [
        {
          "output_type": "execute_result",
          "execution_count": 27,
          "data": {
            "text/html": "<div>\n<style scoped>\n    .dataframe tbody tr th:only-of-type {\n        vertical-align: middle;\n    }\n\n    .dataframe tbody tr th {\n        vertical-align: top;\n    }\n\n    .dataframe thead th {\n        text-align: right;\n    }\n</style>\n<table border=\"1\" class=\"dataframe\">\n  <thead>\n    <tr style=\"text-align: right;\">\n      <th></th>\n      <th>Name</th>\n      <th>Age</th>\n      <th>Income</th>\n      <th>Cluster</th>\n    </tr>\n  </thead>\n  <tbody>\n    <tr>\n      <th>0</th>\n      <td>pratik</td>\n      <td>0.058824</td>\n      <td>0.213675</td>\n      <td>2</td>\n    </tr>\n    <tr>\n      <th>1</th>\n      <td>kartik</td>\n      <td>0.176471</td>\n      <td>0.384615</td>\n      <td>2</td>\n    </tr>\n    <tr>\n      <th>2</th>\n      <td>kishor</td>\n      <td>0.176471</td>\n      <td>0.136752</td>\n      <td>0</td>\n    </tr>\n    <tr>\n      <th>3</th>\n      <td>ishwar</td>\n      <td>0.117647</td>\n      <td>0.128205</td>\n      <td>0</td>\n    </tr>\n    <tr>\n      <th>4</th>\n      <td>rahul</td>\n      <td>0.941176</td>\n      <td>0.897436</td>\n      <td>1</td>\n    </tr>\n  </tbody>\n</table>\n</div>",
            "text/plain": "     Name       Age    Income  Cluster\n0  pratik  0.058824  0.213675        2\n1  kartik  0.176471  0.384615        2\n2  kishor  0.176471  0.136752        0\n3  ishwar  0.117647  0.128205        0\n4   rahul  0.941176  0.897436        1"
          },
          "metadata": {}
        }
      ]
    },
    {
      "metadata": {
        "trusted": true
      },
      "cell_type": "code",
      "source": "km = KMeans(n_clusters=3)\ny_pred = km.fit_predict(df[['Age','Income']])\ny_pred",
      "execution_count": 28,
      "outputs": [
        {
          "output_type": "execute_result",
          "execution_count": 28,
          "data": {
            "text/plain": "array([1, 1, 1, 1, 0, 0, 0, 0, 0, 0, 0, 1, 1, 1, 1, 1, 2, 2, 2, 2, 2, 2],\n      dtype=int32)"
          },
          "metadata": {}
        }
      ]
    },
    {
      "metadata": {
        "trusted": true
      },
      "cell_type": "code",
      "source": "km.cluster_centers_",
      "execution_count": 29,
      "outputs": [
        {
          "output_type": "execute_result",
          "execution_count": 29,
          "data": {
            "text/plain": "array([[0.72268908, 0.8974359 ],\n       [0.1372549 , 0.11633428],\n       [0.85294118, 0.2022792 ]])"
          },
          "metadata": {}
        }
      ]
    },
    {
      "metadata": {
        "trusted": true
      },
      "cell_type": "code",
      "source": "df.drop('Cluster',axis='columns',inplace=True)",
      "execution_count": 33,
      "outputs": []
    },
    {
      "metadata": {
        "trusted": true
      },
      "cell_type": "code",
      "source": "df['Cluster'] = y_pred\ndf.head()",
      "execution_count": 35,
      "outputs": [
        {
          "output_type": "execute_result",
          "execution_count": 35,
          "data": {
            "text/html": "<div>\n<style scoped>\n    .dataframe tbody tr th:only-of-type {\n        vertical-align: middle;\n    }\n\n    .dataframe tbody tr th {\n        vertical-align: top;\n    }\n\n    .dataframe thead th {\n        text-align: right;\n    }\n</style>\n<table border=\"1\" class=\"dataframe\">\n  <thead>\n    <tr style=\"text-align: right;\">\n      <th></th>\n      <th>Name</th>\n      <th>Age</th>\n      <th>Income</th>\n      <th>Cluster</th>\n    </tr>\n  </thead>\n  <tbody>\n    <tr>\n      <th>0</th>\n      <td>pratik</td>\n      <td>0.058824</td>\n      <td>0.213675</td>\n      <td>1</td>\n    </tr>\n    <tr>\n      <th>1</th>\n      <td>kartik</td>\n      <td>0.176471</td>\n      <td>0.384615</td>\n      <td>1</td>\n    </tr>\n    <tr>\n      <th>2</th>\n      <td>kishor</td>\n      <td>0.176471</td>\n      <td>0.136752</td>\n      <td>1</td>\n    </tr>\n    <tr>\n      <th>3</th>\n      <td>ishwar</td>\n      <td>0.117647</td>\n      <td>0.128205</td>\n      <td>1</td>\n    </tr>\n    <tr>\n      <th>4</th>\n      <td>rahul</td>\n      <td>0.941176</td>\n      <td>0.897436</td>\n      <td>0</td>\n    </tr>\n  </tbody>\n</table>\n</div>",
            "text/plain": "     Name       Age    Income  Cluster\n0  pratik  0.058824  0.213675        1\n1  kartik  0.176471  0.384615        1\n2  kishor  0.176471  0.136752        1\n3  ishwar  0.117647  0.128205        1\n4   rahul  0.941176  0.897436        0"
          },
          "metadata": {}
        }
      ]
    },
    {
      "metadata": {
        "trusted": true
      },
      "cell_type": "code",
      "source": "df1 = df[df.Cluster==0]\ndf2 = df[df.Cluster==1]\ndf3 = df[df.Cluster==2]\n\nplt.scatter(df1.Age,df1['Income'],color='Green')\nplt.scatter(df2.Age,df2['Income'],color='Red')\nplt.scatter(df3.Age,df3['Income'],color='Blue')\nplt.scatter(km.cluster_centers_[:,0],km.cluster_centers_[:,1],color='purple',marker='*',label='centroid')\n\nplt.legend()",
      "execution_count": 38,
      "outputs": [
        {
          "output_type": "execute_result",
          "execution_count": 38,
          "data": {
            "text/plain": "<matplotlib.legend.Legend at 0x7fd43de97e80>"
          },
          "metadata": {}
        },
        {
          "output_type": "display_data",
          "data": {
            "image/png": "[encoded data removed]",
            "text/plain": "<Figure size 432x288 with 1 Axes>"
          },
          "metadata": {
            "needs_background": "light"
          }
        }
      ]
    },
    {
      "metadata": {
        "trusted": true
      },
      "cell_type": "code",
      "source": "",
      "execution_count": null,
      "outputs": []
    }
  ],
  "metadata": {
    "kernelspec": {
      "name": "python36",
      "display_name": "Python 3.6",
      "language": "python"
    },
    "language_info": {
      "mimetype": "text/x-python",
      "nbconvert_exporter": "python",
      "name": "python",
      "pygments_lexer": "ipython3",
      "version": "3.6.6",
      "file_extension": ".py",
      "codemirror_mode": {
        "version": 3,
        "name": "ipython"
      }
    }
  },
  "nbformat": 4,
  "nbformat_minor": 2
}