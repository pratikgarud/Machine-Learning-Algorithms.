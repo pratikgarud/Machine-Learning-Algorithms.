{
  "cells": [
    {
      "metadata": {
        "trusted": true
      },
      "cell_type": "code",
      "source": "import pandas as pd\nimport numpy as np\nimport matplotlib.pyplot as plt\nimport seaborn as sns\n%matplotlib inline\nsns.set_style(\"whitegrid\")",
      "execution_count": 2,
      "outputs": []
    },
    {
      "metadata": {
        "trusted": true
      },
      "cell_type": "code",
      "source": "data = pd.read_csv(\"regression.csv\")\ndata.head()",
      "execution_count": 5,
      "outputs": [
        {
          "output_type": "execute_result",
          "execution_count": 5,
          "data": {
            "text/html": "<div>\n<style scoped>\n    .dataframe tbody tr th:only-of-type {\n        vertical-align: middle;\n    }\n\n    .dataframe tbody tr th {\n        vertical-align: top;\n    }\n\n    .dataframe thead th {\n        text-align: right;\n    }\n</style>\n<table border=\"1\" class=\"dataframe\">\n  <thead>\n    <tr style=\"text-align: right;\">\n      <th></th>\n      <th>SAT</th>\n      <th>GPA</th>\n    </tr>\n  </thead>\n  <tbody>\n    <tr>\n      <th>0</th>\n      <td>1714</td>\n      <td>2.40</td>\n    </tr>\n    <tr>\n      <th>1</th>\n      <td>1664</td>\n      <td>2.52</td>\n    </tr>\n    <tr>\n      <th>2</th>\n      <td>1760</td>\n      <td>2.54</td>\n    </tr>\n    <tr>\n      <th>3</th>\n      <td>1685</td>\n      <td>2.74</td>\n    </tr>\n    <tr>\n      <th>4</th>\n      <td>1693</td>\n      <td>2.83</td>\n    </tr>\n  </tbody>\n</table>\n</div>",
            "text/plain": "    SAT   GPA\n0  1714  2.40\n1  1664  2.52\n2  1760  2.54\n3  1685  2.74\n4  1693  2.83"
          },
          "metadata": {}
        }
      ]
    },
    {
      "metadata": {
        "trusted": true
      },
      "cell_type": "code",
      "source": "X = data[\"SAT\"].values.reshape(-1,1)\nX",
      "execution_count": 6,
      "outputs": [
        {
          "output_type": "execute_result",
          "execution_count": 6,
          "data": {
            "text/plain": "array([[1714],\n       [1664],\n       [1760],\n       [1685],\n       [1693],\n       [1670],\n       [1764],\n       [1764],\n       [1792],\n       [1850],\n       [1735],\n       [1775],\n       [1735],\n       [1712],\n       [1773],\n       [1872],\n       [1755],\n       [1674],\n       [1842],\n       [1786],\n       [1761],\n       [1722],\n       [1663],\n       [1687],\n       [1974],\n       [1826],\n       [1787],\n       [1821],\n       [2020],\n       [1794],\n       [1769],\n       [1934],\n       [1775],\n       [1855],\n       [1880],\n       [1849],\n       [1808],\n       [1954],\n       [1777],\n       [1831],\n       [1865],\n       [1850],\n       [1966],\n       [1702],\n       [1990],\n       [1925],\n       [1824],\n       [1956],\n       [1857],\n       [1979],\n       [1802],\n       [1855],\n       [1907],\n       [1634],\n       [1879],\n       [1887],\n       [1730],\n       [1953],\n       [1781],\n       [1891],\n       [1964],\n       [1808],\n       [1893],\n       [2041],\n       [1893],\n       [1832],\n       [1850],\n       [1934],\n       [1861],\n       [1931],\n       [1933],\n       [1778],\n       [1975],\n       [1934],\n       [2021],\n       [2015],\n       [1997],\n       [2020],\n       [1843],\n       [1936],\n       [1810],\n       [1987],\n       [1962],\n       [2050]])"
          },
          "metadata": {}
        }
      ]
    },
    {
      "metadata": {
        "trusted": true
      },
      "cell_type": "code",
      "source": "Y = data[\"GPA\"].values.reshape(-1,1)\nY",
      "execution_count": 7,
      "outputs": [
        {
          "output_type": "execute_result",
          "execution_count": 7,
          "data": {
            "text/plain": "array([[2.4 ],\n       [2.52],\n       [2.54],\n       [2.74],\n       [2.83],\n       [2.91],\n       [3.  ],\n       [3.  ],\n       [3.01],\n       [3.01],\n       [3.02],\n       [3.07],\n       [3.08],\n       [3.08],\n       [3.12],\n       [3.17],\n       [3.17],\n       [3.17],\n       [3.17],\n       [3.19],\n       [3.19],\n       [3.19],\n       [3.2 ],\n       [3.21],\n       [3.24],\n       [3.28],\n       [3.28],\n       [3.28],\n       [3.28],\n       [3.28],\n       [3.28],\n       [3.28],\n       [3.29],\n       [3.29],\n       [3.29],\n       [3.31],\n       [3.32],\n       [3.34],\n       [3.37],\n       [3.37],\n       [3.37],\n       [3.38],\n       [3.38],\n       [3.39],\n       [3.39],\n       [3.4 ],\n       [3.4 ],\n       [3.4 ],\n       [3.41],\n       [3.41],\n       [3.41],\n       [3.42],\n       [3.42],\n       [3.42],\n       [3.44],\n       [3.47],\n       [3.47],\n       [3.47],\n       [3.47],\n       [3.48],\n       [3.49],\n       [3.49],\n       [3.5 ],\n       [3.51],\n       [3.51],\n       [3.52],\n       [3.52],\n       [3.54],\n       [3.58],\n       [3.58],\n       [3.59],\n       [3.59],\n       [3.6 ],\n       [3.6 ],\n       [3.61],\n       [3.62],\n       [3.64],\n       [3.65],\n       [3.71],\n       [3.71],\n       [3.71],\n       [3.73],\n       [3.76],\n       [3.81]])"
          },
          "metadata": {}
        }
      ]
    },
    {
      "metadata": {
        "trusted": true
      },
      "cell_type": "code",
      "source": "from sklearn.model_selection import train_test_split\nX_train,X_test,Y_train,Y_test = train_test_split(X,Y, test_size=0.2,random_state=0)",
      "execution_count": 8,
      "outputs": []
    },
    {
      "metadata": {
        "trusted": true
      },
      "cell_type": "code",
      "source": "from sklearn.linear_model import LinearRegression\nlr = LinearRegression()\nlr.fit(X_train,Y_train)\n",
      "execution_count": 9,
      "outputs": [
        {
          "output_type": "execute_result",
          "execution_count": 9,
          "data": {
            "text/plain": "LinearRegression(copy_X=True, fit_intercept=True, n_jobs=None,\n         normalize=False)"
          },
          "metadata": {}
        }
      ]
    },
    {
      "metadata": {
        "trusted": true
      },
      "cell_type": "code",
      "source": "y_pred = lr.predict(X_test)\ny_pred",
      "execution_count": 10,
      "outputs": [
        {
          "output_type": "execute_result",
          "execution_count": 10,
          "data": {
            "text/plain": "array([[3.19143271],\n       [3.35562407],\n       [3.07684082],\n       [3.24787349],\n       [3.01013808],\n       [3.37956865],\n       [3.17603977],\n       [3.12472997],\n       [3.22221859],\n       [3.23077023],\n       [3.46850564],\n       [3.09394409],\n       [3.32996917],\n       [3.62072471],\n       [3.16748814],\n       [3.2803697 ],\n       [3.61217308]])"
          },
          "metadata": {}
        }
      ]
    },
    {
      "metadata": {
        "trusted": true
      },
      "cell_type": "code",
      "source": "plt.scatter(X_test,Y_test,color=\"green\")\nplt.plot(X_train,lr.predict(X_train),color=\"blue\")\nplt.title(\" Datasets Prediction\")\nplt.xlabel('SAT')\nplt.ylabel('GPA')\nplt.show()",
      "execution_count": 11,
      "outputs": [
        {
          "output_type": "display_data",
          "data": {
            "image/png": "[encoded data removed]",
            "text/plain": "<Figure size 432x288 with 1 Axes>"
          },
          "metadata": {
            "needs_background": "light"
          }
        }
      ]
    },
    {
      "metadata": {
        "trusted": true
      },
      "cell_type": "code",
      "source": "",
      "execution_count": null,
      "outputs": []
    }
  ],
  "metadata": {
    "kernelspec": {
      "name": "python36",
      "display_name": "Python 3.6",
      "language": "python"
    },
    "language_info": {
      "mimetype": "text/x-python",
      "nbconvert_exporter": "python",
      "name": "python",
      "pygments_lexer": "ipython3",
      "version": "3.6.6",
      "file_extension": ".py",
      "codemirror_mode": {
        "version": 3,
        "name": "ipython"
      }
    }
  },
  "nbformat": 4,
  "nbformat_minor": 2
}